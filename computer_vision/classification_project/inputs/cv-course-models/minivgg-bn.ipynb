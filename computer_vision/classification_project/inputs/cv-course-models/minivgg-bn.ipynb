{
 "cells": [
  {
   "cell_type": "markdown",
   "metadata": {},
   "source": [
    "# MiniVGG BatchNorm #"
   ]
  },
  {
   "cell_type": "code",
   "execution_count": 1,
   "metadata": {},
   "outputs": [],
   "source": [
    "import tensorflow as tf\n",
    "config = tf.compat.v1.ConfigProto()\n",
    "config.gpu_options.allow_growth = True\n",
    "session = tf.compat.v1.InteractiveSession(config=config)"
   ]
  },
  {
   "cell_type": "code",
   "execution_count": 2,
   "metadata": {},
   "outputs": [],
   "source": [
    "import visiontools\n",
    "import pandas as pd\n",
    "import tensorflow as tf\n",
    "import tensorflow_datasets as tfds\n",
    "import tensorflow.keras as keras\n",
    "import tensorflow.keras.layers as layers"
   ]
  },
  {
   "cell_type": "markdown",
   "metadata": {},
   "source": [
    "## Untrained ##"
   ]
  },
  {
   "cell_type": "code",
   "execution_count": 3,
   "metadata": {},
   "outputs": [],
   "source": [
    "SIZE = [192, 192]\n",
    "\n",
    "model = keras.Sequential([\n",
    "    layers.Conv2D(filters=64,\n",
    "                  kernel_size=3,\n",
    "                  activation=None,\n",
    "                  padding='same',\n",
    "                  name=\"block1_conv1\", input_shape=[*SIZE, 3]),\n",
    "    layers.BatchNormalization(),\n",
    "    layers.Activation('relu'),\n",
    "    layers.MaxPool2D(name=\"block1_pool\"),\n",
    "    layers.Conv2D(filters=128,\n",
    "                  kernel_size=3,\n",
    "                  activation=None,\n",
    "                  padding='same',\n",
    "                  name=\"block2_conv1\"),\n",
    "    layers.BatchNormalization(),\n",
    "    layers.Activation('relu'),\n",
    "    layers.MaxPool2D(name=\"block2_pool\"),\n",
    "    layers.Conv2D(filters=256,\n",
    "                  kernel_size=3,\n",
    "                  activation=\"relu\",\n",
    "                  padding='same',\n",
    "                  name=\"block3_conv1\"),\n",
    "    layers.Conv2D(filters=256,\n",
    "                  kernel_size=3,\n",
    "                  activation=None,\n",
    "                  padding='same',\n",
    "                  name=\"block3_conv2\"),\n",
    "    layers.BatchNormalization(),\n",
    "    layers.Activation('relu'),\n",
    "    layers.MaxPool2D(name=\"block3_pool\"),\n",
    "    layers.Conv2D(filters=512,\n",
    "                  kernel_size=3,\n",
    "                  activation=\"relu\",\n",
    "                  padding='same',\n",
    "                  name=\"block4_conv1\"),\n",
    "    layers.Conv2D(filters=512,\n",
    "                  kernel_size=3,\n",
    "                  activation=\"relu\",\n",
    "                  padding='same',\n",
    "                  name=\"block4_conv2\"),\n",
    "    layers.Conv2D(filters=512,\n",
    "                  kernel_size=3,\n",
    "                  activation=None,\n",
    "                  padding='same',\n",
    "                  name=\"block4_conv3\"),\n",
    "    layers.BatchNormalization(),\n",
    "    layers.Activation('relu'),\n",
    "    layers.MaxPool2D(name=\"block4_pool\"),\n",
    "    layers.Flatten(),\n",
    "    layers.Dense(8, activation=\"relu\"),\n",
    "    layers.Dense(1, activation=\"sigmoid\")\n",
    "], name='minivgg')\n",
    "model.compile(\n",
    "    optimizer=tf.keras.optimizers.Adam(learning_rate=0.00001),\n",
    "    loss='binary_crossentropy',\n",
    "    metrics=['binary_accuracy']\n",
    ")\n",
    "model.save('minivgg-bn-untrained')"
   ]
  },
  {
   "cell_type": "markdown",
   "metadata": {},
   "source": [
    "## Pretrained ##"
   ]
  },
  {
   "cell_type": "code",
   "execution_count": 4,
   "metadata": {},
   "outputs": [],
   "source": [
    "# Load training and validation sets\n",
    "DATA_DIR = '/home/jovyan/work/kaggle/datasets'\n",
    "(ds_train_, ds_valid_), ds_info = tfds.load('stanford_cars/simple',\n",
    "                                          split=['train', 'test'],\n",
    "                                          shuffle_files=True,\n",
    "                                          with_info=True,\n",
    "                                          data_dir=DATA_DIR)\n",
    "\n",
    "BATCH_SIZE = 16\n",
    "AUTO = tf.data.experimental.AUTOTUNE\n",
    "SIZE = [192, 192]\n",
    "preprocess = visiontools.make_preprocessor(size=SIZE)\n",
    "\n",
    "ds_train = (ds_train_\n",
    "            .map(preprocess, AUTO)\n",
    "            .cache()\n",
    "            .repeat()\n",
    "            .shuffle(ds_info.splits['train'].num_examples)\n",
    "            .batch(BATCH_SIZE)\n",
    "            .prefetch(AUTO))\n",
    "\n",
    "ds_valid = (ds_valid_\n",
    "            .map(preprocess, AUTO)\n",
    "            .cache()\n",
    "            .shuffle(ds_info.splits['test'].num_examples)\n",
    "            .batch(BATCH_SIZE)\n",
    "            .prefetch(AUTO))"
   ]
  },
  {
   "cell_type": "code",
   "execution_count": 5,
   "metadata": {},
   "outputs": [
    {
     "name": "stdout",
     "output_type": "stream",
     "text": [
      "Epoch 1/100\n",
      "319/319 [==============================] - 55s 173ms/step - loss: 0.6234 - binary_accuracy: 0.6509 - val_loss: 0.7482 - val_binary_accuracy: 0.5785 - lr: 1.0000e-05\n",
      "Epoch 2/100\n",
      "319/319 [==============================] - 46s 145ms/step - loss: 0.4877 - binary_accuracy: 0.7690 - val_loss: 0.5663 - val_binary_accuracy: 0.6959 - lr: 1.0000e-05\n",
      "Epoch 3/100\n",
      "319/319 [==============================] - 46s 145ms/step - loss: 0.3580 - binary_accuracy: 0.8636 - val_loss: 0.5022 - val_binary_accuracy: 0.7563 - lr: 1.0000e-05\n",
      "Epoch 4/100\n",
      "319/319 [==============================] - 46s 145ms/step - loss: 0.2521 - binary_accuracy: 0.9316 - val_loss: 0.4760 - val_binary_accuracy: 0.7755 - lr: 1.0000e-05\n",
      "Epoch 5/100\n",
      "319/319 [==============================] - 47s 147ms/step - loss: 0.1766 - binary_accuracy: 0.9657 - val_loss: 0.5066 - val_binary_accuracy: 0.7565 - lr: 1.0000e-05\n",
      "Epoch 6/100\n",
      "319/319 [==============================] - 47s 148ms/step - loss: 0.1299 - binary_accuracy: 0.9824 - val_loss: 0.4075 - val_binary_accuracy: 0.8177 - lr: 1.0000e-05\n",
      "Epoch 7/100\n",
      "319/319 [==============================] - 48s 149ms/step - loss: 0.0865 - binary_accuracy: 0.9928 - val_loss: 0.4276 - val_binary_accuracy: 0.8082 - lr: 1.0000e-05\n",
      "Epoch 8/100\n",
      "319/319 [==============================] - 48s 150ms/step - loss: 0.0605 - binary_accuracy: 0.9976 - val_loss: 0.5157 - val_binary_accuracy: 0.7822 - lr: 1.0000e-05\n",
      "Epoch 9/100\n",
      "319/319 [==============================] - 48s 151ms/step - loss: 0.0433 - binary_accuracy: 1.0000 - val_loss: 0.3930 - val_binary_accuracy: 0.8297 - lr: 1.0000e-06\n",
      "Epoch 10/100\n",
      "319/319 [==============================] - 48s 151ms/step - loss: 0.0381 - binary_accuracy: 1.0000 - val_loss: 0.4030 - val_binary_accuracy: 0.8226 - lr: 1.0000e-06\n",
      "Epoch 11/100\n",
      "319/319 [==============================] - 48s 152ms/step - loss: 0.0360 - binary_accuracy: 1.0000 - val_loss: 0.3951 - val_binary_accuracy: 0.8285 - lr: 1.0000e-06\n",
      "Epoch 12/100\n",
      "319/319 [==============================] - 48s 151ms/step - loss: 0.0348 - binary_accuracy: 0.9998 - val_loss: 0.3919 - val_binary_accuracy: 0.8305 - lr: 1.0000e-07\n",
      "Epoch 13/100\n",
      "319/319 [==============================] - 48s 151ms/step - loss: 0.0334 - binary_accuracy: 0.9998 - val_loss: 0.3921 - val_binary_accuracy: 0.8305 - lr: 1.0000e-07\n",
      "Epoch 14/100\n",
      "319/319 [==============================] - 48s 151ms/step - loss: 0.0332 - binary_accuracy: 1.0000 - val_loss: 0.3897 - val_binary_accuracy: 0.8319 - lr: 1.0000e-07\n",
      "Epoch 15/100\n",
      "319/319 [==============================] - 48s 151ms/step - loss: 0.0331 - binary_accuracy: 1.0000 - val_loss: 0.3905 - val_binary_accuracy: 0.8303 - lr: 1.0000e-07\n",
      "Epoch 16/100\n",
      "319/319 [==============================] - 48s 152ms/step - loss: 0.0329 - binary_accuracy: 0.9998 - val_loss: 0.3910 - val_binary_accuracy: 0.8307 - lr: 1.0000e-07\n",
      "Epoch 17/100\n",
      "319/319 [==============================] - 48s 152ms/step - loss: 0.0324 - binary_accuracy: 1.0000 - val_loss: 0.3907 - val_binary_accuracy: 0.8309 - lr: 1.0000e-08\n",
      "Epoch 18/100\n",
      "319/319 [==============================] - 48s 151ms/step - loss: 0.0329 - binary_accuracy: 1.0000 - val_loss: 0.3908 - val_binary_accuracy: 0.8311 - lr: 1.0000e-08\n",
      "Epoch 19/100\n",
      "319/319 [==============================] - 48s 152ms/step - loss: 0.0318 - binary_accuracy: 1.0000 - val_loss: 0.3908 - val_binary_accuracy: 0.8313 - lr: 1.0000e-09\n",
      "Epoch 20/100\n",
      "319/319 [==============================] - 48s 152ms/step - loss: 0.0322 - binary_accuracy: 1.0000 - val_loss: 0.3909 - val_binary_accuracy: 0.8313 - lr: 1.0000e-09\n"
     ]
    },
    {
     "data": {
      "image/png": "[encoded data removed]",
      "text/plain": [
       "<Figure size 432x288 with 1 Axes>"
      ]
     },
     "metadata": {
      "needs_background": "light"
     },
     "output_type": "display_data"
    },
    {
     "data": {
      "image/png": "[encoded data removed]",
      "text/plain": [
       "<Figure size 432x288 with 1 Axes>"
      ]
     },
     "metadata": {
      "needs_background": "light"
     },
     "output_type": "display_data"
    }
   ],
   "source": [
    "early_stopping = tf.keras.callbacks.EarlyStopping(patience=6, restore_best_weights=True)\n",
    "lr_schedule = tf.keras.callbacks.ReduceLROnPlateau(patience=2)\n",
    "\n",
    "EPOCHS = 100\n",
    "STEPS_PER_EPOCH = ds_info.splits['train'].num_examples // BATCH_SIZE\n",
    "\n",
    "history = model.fit(\n",
    "    ds_train,\n",
    "    validation_data=ds_valid,\n",
    "    epochs=EPOCHS,\n",
    "    steps_per_epoch=STEPS_PER_EPOCH,\n",
    "    callbacks=[early_stopping, lr_schedule],\n",
    ")\n",
    "\n",
    "history_frame = pd.DataFrame(history.history)\n",
    "history_frame.loc[:, ['loss', 'val_loss']].plot()\n",
    "history_frame.loc[:, ['binary_accuracy', 'val_binary_accuracy']].plot();"
   ]
  },
  {
   "cell_type": "code",
   "execution_count": 6,
   "metadata": {},
   "outputs": [],
   "source": [
    "model.save('minivgg-bn-trained')"
   ]
  }
 ],
 "metadata": {
  "jupytext": {
   "formats": "ipynb,md",
   "split_at_heading": true
  },
  "kernelspec": {
   "display_name": "Python 3",
   "language": "python",
   "name": "python3"
  },
  "language_info": {
   "codemirror_mode": {
    "name": "ipython",
    "version": 3
   },
   "file_extension": ".py",
   "mimetype": "text/x-python",
   "name": "python",
   "nbconvert_exporter": "python",
   "pygments_lexer": "ipython3",
   "version": "3.7.6"
  }
 },
 "nbformat": 4,
 "nbformat_minor": 4
}
