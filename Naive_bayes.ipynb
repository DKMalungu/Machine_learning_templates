{
  "nbformat": 4,
  "nbformat_minor": 0,
  "metadata": {
    "colab": {
      "name": "Untitled0.ipynb",
      "provenance": []
    },
    "kernelspec": {
      "name": "python3",
      "display_name": "Python 3"
    }
  },
  "cells": [
    {
      "cell_type": "code",
      "metadata": {
        "id": "yudohHNSgbOr",
        "colab_type": "code",
        "colab": {
          "base_uri": "https://localhost:8080/",
          "height": 255
        },
        "outputId": "c621e489-2c5e-41f1-f425-de2b4d948038"
      },
      "source": [
        "# Importing Core Libraries \n",
        "import pandas as pd\n",
        "dataset = pd.read_csv('https://raw.githubusercontent.com/jbrownlee/Datasets/master/pima-indians-diabetes.csv')\n",
        "print(dataset)"
      ],
      "execution_count": 32,
      "outputs": [
        {
          "output_type": "stream",
          "text": [
            "      6  148  72  35    0  33.6  0.627  50  1\n",
            "0     1   85  66  29    0  26.6  0.351  31  0\n",
            "1     8  183  64   0    0  23.3  0.672  32  1\n",
            "2     1   89  66  23   94  28.1  0.167  21  0\n",
            "3     0  137  40  35  168  43.1  2.288  33  1\n",
            "4     5  116  74   0    0  25.6  0.201  30  0\n",
            "..   ..  ...  ..  ..  ...   ...    ...  .. ..\n",
            "762  10  101  76  48  180  32.9  0.171  63  0\n",
            "763   2  122  70  27    0  36.8  0.340  27  0\n",
            "764   5  121  72  23  112  26.2  0.245  30  0\n",
            "765   1  126  60   0    0  30.1  0.349  47  1\n",
            "766   1   93  70  31    0  30.4  0.315  23  0\n",
            "\n",
            "[767 rows x 9 columns]\n"
          ],
          "name": "stdout"
        }
      ]
    },
    {
      "cell_type": "code",
      "metadata": {
        "id": "nZaERbaoiDzW",
        "colab_type": "code",
        "colab": {}
      },
      "source": [
        "# Spliting the dataset into trainingset and testset\n",
        "# The testset will be made up of 25% of teh rows\n",
        "split =int(round(767 * .30))\n",
        "\n",
        "training_dataset =dataset.iloc[:split,:].values\n",
        "test_dataset = dataset.iloc[split:,:]"
      ],
      "execution_count": 0,
      "outputs": []
    },
    {
      "cell_type": "code",
      "metadata": {
        "id": "HaeqsaZunfOf",
        "colab_type": "code",
        "colab": {}
      },
      "source": [
        "# Separating by Class\n",
        "def separate_by_class(dataset):\n",
        "  separated = dict()\n",
        "  for i in range (len(dataset)):\n",
        "    vector = dataset[i]\n",
        "    class_value = vector[-1]\n",
        "    if (class_value not in separated):\n",
        "      separated[class_value] = list()\n",
        "      separated[class_value].append(vector)\n",
        "  return separated\n"
      ],
      "execution_count": 0,
      "outputs": []
    },
    {
      "cell_type": "code",
      "metadata": {
        "id": "fDjeOlMtrMoH",
        "colab_type": "code",
        "colab": {
          "base_uri": "https://localhost:8080/",
          "height": 85
        },
        "outputId": "067b33c1-4910-44ff-b37b-511cc8f21b11"
      },
      "source": [
        "#Displaying the separated classes\n",
        "separate = separate_by_class(list(training_dataset))\n",
        "for label in separate:\n",
        "  print(label)\n",
        "  for row in separate[label]:\n",
        "    print(row)"
      ],
      "execution_count": 44,
      "outputs": [
        {
          "output_type": "stream",
          "text": [
            "0.0\n",
            "[ 1.    85.    66.    29.     0.    26.6    0.351 31.     0.   ]\n",
            "1.0\n",
            "[  8.    183.     64.      0.      0.     23.3     0.672  32.      1.   ]\n"
          ],
          "name": "stdout"
        }
      ]
    },
    {
      "cell_type": "code",
      "metadata": {
        "id": "6kP9DmQc0mCu",
        "colab_type": "code",
        "colab": {}
      },
      "source": [
        ""
      ],
      "execution_count": 0,
      "outputs": []
    },
    {
      "cell_type": "markdown",
      "metadata": {
        "id": "YgHtVN3PiCsP",
        "colab_type": "text"
      },
      "source": [
        ""
      ]
    }
  ]
}